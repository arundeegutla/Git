{
 "cells": [
  {
   "cell_type": "code",
   "execution_count": 30,
   "metadata": {},
   "outputs": [],
   "source": [
    "import matplotlib.pyplot as plt\n",
    "from collections import defaultdict\n"
   ]
  },
  {
   "cell_type": "code",
   "execution_count": 31,
   "metadata": {},
   "outputs": [],
   "source": [
    "filename = \"score.txt\"\n",
    "contest_length = 300\n",
    "oo = contest_length + 50\n"
   ]
  },
  {
   "cell_type": "markdown",
   "metadata": {},
   "source": [
    "Precomp"
   ]
  },
  {
   "cell_type": "code",
   "execution_count": 32,
   "metadata": {},
   "outputs": [
    {
     "name": "stdout",
     "output_type": "stream",
     "text": [
      "2024 UCF Local Programming Contest: Final Round: August 31, 2024\n",
      "There were 12 problems:\n",
      "adapter, phone, ready, tourney, idenlet, espresso, speed, magnetic, hotel, protect, teamwork, please\n"
     ]
    }
   ],
   "source": [
    "f = open(filename, \"r\")\n",
    "contest_title = f.readline().strip()\n",
    "date = f.readline().strip()\n",
    "f.readline()\n",
    "f.readline()\n",
    "header = f.readline().strip()\n",
    "header = header.split()\n",
    "num_problems = len(header) - 7\n",
    "print(contest_title + \": \" + date)\n",
    "print(f\"There were {num_problems} problems:\")\n",
    "problem_names = header[7:]\n",
    "print(\", \".join(problem_names))\n",
    "\n",
    "names = [] # list of names\n",
    "ranks = {} # final rank of each person\n",
    "attempts = {} # data on solves of each person\n",
    "solves = {} # number of problems solved for each person\n",
    "penalties = {} # penalty points for each person\n",
    "scores = {} # [solved, penalty] over time for each person\n",
    "solve_order = [[] for _ in problem_names] # order the people solved problems in for each problem\n",
    "\n",
    "\n",
    "for contestant in f:\n",
    "    data = contestant.strip().split()\n",
    "    if not data[0].isnumeric():\n",
    "        continue # unranked\n",
    "    rank = int(data[0])\n",
    "    name = []\n",
    "    solve_data = []\n",
    "    solved = 0\n",
    "    penalty = 0\n",
    "    for i in range(1, len(data)):\n",
    "        if data[i].isnumeric():\n",
    "            solve_data = data[i + 2:]\n",
    "            solved = int(data[i])\n",
    "            penalty = int(data[i + 1])\n",
    "            break\n",
    "        name.append(data[i])\n",
    "    name = \" \".join(name)\n",
    "    names.append(name)\n",
    "    assert(len(solve_data) == 2 * num_problems)\n",
    "    solve_arr = []\n",
    "    for i in range(0, len(solve_data), 2):\n",
    "        attempt = [int(solve_data[i]), 0]\n",
    "        if solve_data[i + 1] == '....':\n",
    "            attempt[1] = contest_length + 1\n",
    "        else:\n",
    "            d = solve_data[i + 1].split(\":\")\n",
    "            attempt[1] = 60 * int(d[0]) + int(d[1])\n",
    "            solve_order[i//2].append((attempt[1], name))\n",
    "        solve_arr.append(attempt)\n",
    "    ranks[name] = rank\n",
    "    solves[name] = solved\n",
    "    penalties[name] = penalty\n",
    "    attempts[name] = solve_arr\n",
    "    time_data = []\n",
    "    cur_solves = 0\n",
    "    cur_penalty = 0\n",
    "    for t in range(contest_length + 1):\n",
    "        for i in range(num_problems):\n",
    "            submissions, time = solve_arr[i]\n",
    "            if time == t:\n",
    "                cur_solves += 1\n",
    "                cur_penalty += (submissions - 1) * 20 + time\n",
    "        time_data.append([cur_solves, cur_penalty])\n",
    "    assert(cur_penalty == penalty)\n",
    "    assert(cur_solves == solved)\n",
    "    scores[name] = time_data\n",
    "\n",
    "for a in solve_order:\n",
    "    a.sort()\n",
    "\n",
    "f.close()"
   ]
  },
  {
   "cell_type": "code",
   "execution_count": 33,
   "metadata": {},
   "outputs": [
    {
     "name": "stdout",
     "output_type": "stream",
     "text": [
      "Problems in order of solves: \n",
      "adapter: 59\n",
      "phone: 58\n",
      "ready: 53\n",
      "tourney: 42\n",
      "idenlet: 24\n",
      "hotel: 23\n",
      "speed: 21\n",
      "espresso: 10\n",
      "teamwork: 10\n",
      "protect: 7\n",
      "magnetic: 6\n",
      "please: 1\n",
      "\n",
      "\n",
      "First 5 to solve each problem:\n",
      "adapter: \n",
      "Andy Phan: 0\n",
      "Aviv Brian Barak: 1\n",
      "Brian Grana: 1\n",
      "Erick Washbourne: 1\n",
      "Sachin Sivakumar: 1\n",
      "\n",
      "phone: \n",
      "Andy Phan: 1\n",
      "Arun Deegutla: 1\n",
      "Aviv Brian Barak: 2\n",
      "Erick Washbourne: 2\n",
      "Sachin Sivakumar: 2\n",
      "\n",
      "ready: \n",
      "Andy Phan: 4\n",
      "Aviv Brian Barak: 5\n",
      "Erick Washbourne: 5\n",
      "Sachin Sivakumar: 5\n",
      "Tyler Marks: 5\n",
      "\n",
      "tourney: \n",
      "Benjamin Prins: 13\n",
      "David Robinson: 13\n",
      "Sachin Sivakumar: 13\n",
      "Erick Washbourne: 15\n",
      "Brian Grana: 16\n",
      "\n",
      "idenlet: \n",
      "Andy Phan: 12\n",
      "Sachin Sivakumar: 18\n",
      "Benjamin Prins: 21\n",
      "Erick Washbourne: 26\n",
      "Arun Deegutla: 29\n",
      "\n",
      "espresso: \n",
      "Andy Phan: 25\n",
      "Benjamin Prins: 40\n",
      "Sachin Sivakumar: 80\n",
      "Chris Gittings: 129\n",
      "Aviv Brian Barak: 154\n",
      "\n",
      "speed: \n",
      "Brian Grana: 45\n",
      "Sachin Sivakumar: 49\n",
      "Benjamin Prins: 56\n",
      "Sathvik Kuthuru: 60\n",
      "Andy Phan: 66\n",
      "\n",
      "magnetic: \n",
      "Shane Lambert: 69\n",
      "Tyler Marks: 89\n",
      "Aviv Brian Barak: 92\n",
      "Benjamin Prins: 99\n",
      "Andy Phan: 221\n",
      "\n",
      "hotel: \n",
      "Andy Phan: 36\n",
      "Sathvik Kuthuru: 42\n",
      "Brian Grana: 52\n",
      "Aga Calkowska: 54\n",
      "Tomas Baron: 57\n",
      "\n",
      "protect: \n",
      "Sachin Sivakumar: 114\n",
      "Tyler Marks: 234\n",
      "Andy Phan: 240\n",
      "Thomas Meeks: 292\n",
      "Benjamin Prins: 293\n",
      "\n",
      "teamwork: \n",
      "Brian Grana: 110\n",
      "Tyler Marks: 154\n",
      "Andy Phan: 167\n",
      "Chris Gittings: 186\n",
      "Benjamin Prins: 192\n",
      "\n",
      "please: \n",
      "Andy Phan: 120\n",
      "\n"
     ]
    }
   ],
   "source": [
    "print(\"Problems in order of solves: \")\n",
    "for problem_name in sorted(problem_names, key=lambda x: len(solve_order[problem_names.index(x)]), reverse=True):\n",
    "    print(f\"{problem_name}: {len(solve_order[problem_names.index(problem_name)])}\")\n",
    "\n",
    "print(\"\\n\\nFirst 5 to solve each problem:\")\n",
    "for i, problem_name in enumerate(problem_names):\n",
    "    print(problem_name + \": \")\n",
    "    for time, name in solve_order[i][:5]:\n",
    "        print(f\"{name}: {time}\")\n",
    "    print()"
   ]
  },
  {
   "cell_type": "code",
   "execution_count": 34,
   "metadata": {},
   "outputs": [],
   "source": [
    "reference_time = 0\n",
    "\n",
    "def cmp_state(name1, name2):\n",
    "    global reference_time, scores\n",
    "    state1 = scores[name1][reference_time]\n",
    "    state2 = scores[name2][reference_time]\n",
    "    if state1[0] != state2[0]:\n",
    "        return state2[0] - state1[0]\n",
    "    return state1[1] - state2[1]\n",
    "ranks_over_time = {}\n",
    "for name in names:\n",
    "    ranks_over_time[name] = []\n",
    "for t in range(contest_length + 1):\n",
    "    reference_time = t\n",
    "    names.sort(key=lambda name: (-scores[name][reference_time][0], scores[name][reference_time][1]))\n",
    "    rank = 0\n",
    "    fake_rank = 0\n",
    "    for i, name in enumerate(names):\n",
    "        fake_rank += 1\n",
    "        if i > 0 and cmp_state(names[i-1], name) == 0:\n",
    "            pass\n",
    "        else:\n",
    "            rank = fake_rank\n",
    "        ranks_over_time[name].append(rank)\n"
   ]
  },
  {
   "cell_type": "code",
   "execution_count": 35,
   "metadata": {},
   "outputs": [],
   "source": [
    "# plots the rank over time graph of one or more candidates\n",
    "def plot_rank_over_time(names):\n",
    "    if type(names) != list:\n",
    "        names = [names]\n",
    "    fig, ax = plt.subplots(1,1)\n",
    "    plt.xlabel(\"Time\")\n",
    "    plt.ylabel(\"Rank\")\n",
    "    plt.title(\"Rank over Time\")\n",
    "    for name in names:\n",
    "        rank_list = ranks_over_time[name]\n",
    "        ax.plot(rank_list, label=name)\n",
    "    plt.legend()\n"
   ]
  },
  {
   "cell_type": "markdown",
   "metadata": {},
   "source": [
    "Who had the best average rank?"
   ]
  },
  {
   "cell_type": "code",
   "execution_count": 36,
   "metadata": {},
   "outputs": [
    {
     "name": "stdout",
     "output_type": "stream",
     "text": [
      "Andy Phan's Average Rank: 1.60\n",
      "Benjamin Prins's Average Rank: 2.44\n",
      "Sachin Sivakumar's Average Rank: 2.99\n",
      "Brian Grana's Average Rank: 5.18\n",
      "Sathvik Kuthuru's Average Rank: 7.50\n",
      "David Robinson's Average Rank: 7.74\n",
      "Aviv Brian Barak's Average Rank: 7.80\n",
      "Tyler Marks's Average Rank: 8.24\n",
      "Chris Gittings's Average Rank: 8.41\n",
      "Arun Deegutla's Average Rank: 10.62\n"
     ]
    }
   ],
   "source": [
    "def avg_rank(name):\n",
    "    rank_list = ranks_over_time[name]\n",
    "    return sum(rank_list) / len(rank_list)\n",
    "\n",
    "names.sort(key=lambda x: avg_rank(x))\n",
    "for i in names[:10]:\n",
    "    print(\"%s's Average Rank: %.2f\" % (i, avg_rank(i)))\n"
   ]
  },
  {
   "cell_type": "markdown",
   "metadata": {},
   "source": [
    "Who had the highest ranks?"
   ]
  },
  {
   "cell_type": "code",
   "execution_count": 37,
   "metadata": {},
   "outputs": [
    {
     "name": "stdout",
     "output_type": "stream",
     "text": [
      "Andy Phan's Min Rank: 1.00\n",
      "Benjamin Prins's Min Rank: 1.00\n",
      "Sachin Sivakumar's Min Rank: 1.00\n",
      "Brian Grana's Min Rank: 1.00\n",
      "Sathvik Kuthuru's Min Rank: 2.00\n",
      "David Robinson's Min Rank: 2.00\n",
      "Aviv Brian Barak's Min Rank: 2.00\n",
      "Tyler Marks's Min Rank: 2.00\n",
      "Chris Gittings's Min Rank: 2.00\n",
      "Arun Deegutla's Min Rank: 2.00\n"
     ]
    }
   ],
   "source": [
    "def min_rank(name):\n",
    "    return min(ranks_over_time[name])\n",
    "\n",
    "names.sort(key=lambda x: min_rank(x))\n",
    "for i in names[:10]:\n",
    "    print(\"%s's Min Rank: %.2f\" % (i, min_rank(i)))"
   ]
  },
  {
   "cell_type": "markdown",
   "metadata": {},
   "source": [
    "Who were the most consistent people (measured by minimum maximum rank)?"
   ]
  },
  {
   "cell_type": "code",
   "execution_count": 38,
   "metadata": {},
   "outputs": [
    {
     "name": "stdout",
     "output_type": "stream",
     "text": [
      "Andy Phan's Max Rank: 3.00\n",
      "Sachin Sivakumar's Max Rank: 6.00\n",
      "Brian Grana's Max Rank: 7.00\n",
      "Sathvik Kuthuru's Max Rank: 12.00\n",
      "David Robinson's Max Rank: 13.00\n",
      "Arun Deegutla's Max Rank: 17.00\n",
      "Erick Washbourne's Max Rank: 17.00\n",
      "Thomas Meeks's Max Rank: 18.00\n",
      "Shane Lambert's Max Rank: 21.00\n",
      "Harrison Katz's Max Rank: 21.00\n"
     ]
    }
   ],
   "source": [
    "def max_rank(name):\n",
    "    return max(ranks_over_time[name])\n",
    "\n",
    "names.sort(key=lambda x: max_rank(x))\n",
    "for i in names[:10]:\n",
    "    print(\"%s's Max Rank: %.2f\" % (i, max_rank(i)))"
   ]
  },
  {
   "cell_type": "code",
   "execution_count": 39,
   "metadata": {},
   "outputs": [],
   "source": [
    "def top_x_at_time(x, time):\n",
    "    res = [\"\"] * x\n",
    "    for name in names:\n",
    "        if ranks_over_time[name][time] <= x:\n",
    "            r = ranks_over_time[name][time]-1\n",
    "            while r < x and len(res[r]) > 0:\n",
    "                r += 1\n",
    "            if r < x: res[r] = name\n",
    "    return res\n"
   ]
  },
  {
   "cell_type": "markdown",
   "metadata": {},
   "source": [
    "When did the top 10 change?"
   ]
  },
  {
   "cell_type": "code",
   "execution_count": 40,
   "metadata": {},
   "outputs": [
    {
     "name": "stdout",
     "output_type": "stream",
     "text": [
      "0 ['Andy Phan', 'Sachin Sivakumar', 'Brian Grana', 'Sathvik Kuthuru', 'David Robinson', 'Arun Deegutla', 'Erick Washbourne', 'Thomas Meeks', 'Shane Lambert', 'Harrison Katz']\n",
      "1 ['Andy Phan', 'Sachin Sivakumar', 'Brian Grana', 'Arun Deegutla', 'Erick Washbourne', 'Tyler Marks', 'Aviv Brian Barak', 'Sathvik Kuthuru', 'David Robinson', 'Thomas Meeks']\n",
      "2 ['Andy Phan', 'Sachin Sivakumar', 'Erick Washbourne', 'Tyler Marks', 'Aviv Brian Barak', 'Brian Grana', 'Arun Deegutla', 'Sathvik Kuthuru', 'Shane Lambert', 'Harrison Katz']\n",
      "3 ['Andy Phan', 'Sachin Sivakumar', 'Erick Washbourne', 'Tyler Marks', 'Brian Grana', 'Aviv Brian Barak', 'Arun Deegutla', 'Sathvik Kuthuru', 'Shane Lambert', 'Harrison Katz']\n",
      "4 ['Andy Phan', 'Sachin Sivakumar', 'Erick Washbourne', 'Tyler Marks', 'Brian Grana', 'Arun Deegutla', 'Sathvik Kuthuru', 'Harrison Katz', 'David Robinson', 'Samarth Upadhya']\n",
      "5 ['Andy Phan', 'Sachin Sivakumar', 'Erick Washbourne', 'Tyler Marks', 'Aviv Brian Barak', 'Brian Grana', 'Arun Deegutla', 'Sathvik Kuthuru', 'Harrison Katz', 'David Robinson']\n",
      "7 ['Andy Phan', 'Sachin Sivakumar', 'Erick Washbourne', 'Tyler Marks', 'Brian Grana', 'Sathvik Kuthuru', 'David Robinson', 'Aviv Brian Barak', 'Benjamin Prins', 'Arun Deegutla']\n",
      "9 ['Andy Phan', 'Sachin Sivakumar', 'Erick Washbourne', 'Tyler Marks', 'Brian Grana', 'Sathvik Kuthuru', 'David Robinson', 'Shane Lambert', 'Aviv Brian Barak', 'Benjamin Prins']\n",
      "10 ['Andy Phan', 'Sachin Sivakumar', 'Erick Washbourne', 'Tyler Marks', 'Brian Grana', 'Sathvik Kuthuru', 'David Robinson', 'Shane Lambert', 'Samarth Upadhya', 'Thomas Meeks']\n",
      "11 ['Andy Phan', 'Sachin Sivakumar', 'Erick Washbourne', 'Tyler Marks', 'Brian Grana', 'Sathvik Kuthuru', 'David Robinson', 'Arun Deegutla', 'Shane Lambert', 'Samarth Upadhya']\n",
      "13 ['Andy Phan', 'David Robinson', 'Sachin Sivakumar', 'Benjamin Prins', 'Erick Washbourne', 'Tyler Marks', 'Brian Grana', 'Sathvik Kuthuru', 'Arun Deegutla', 'Shane Lambert']\n",
      "15 ['Andy Phan', 'David Robinson', 'Sachin Sivakumar', 'Erick Washbourne', 'Benjamin Prins', 'Tyler Marks', 'Brian Grana', 'Sathvik Kuthuru', 'Arun Deegutla', 'Shane Lambert']\n",
      "16 ['Andy Phan', 'Brian Grana', 'David Robinson', 'Sachin Sivakumar', 'Erick Washbourne', 'Benjamin Prins', 'Tyler Marks', 'Sathvik Kuthuru', 'Arun Deegutla', 'Shane Lambert']\n",
      "18 ['Sachin Sivakumar', 'Andy Phan', 'Brian Grana', 'David Robinson', 'Erick Washbourne', 'Benjamin Prins', 'Tyler Marks', 'Sathvik Kuthuru', 'Arun Deegutla', 'Shane Lambert']\n",
      "19 ['Sachin Sivakumar', 'Andy Phan', 'Brian Grana', 'David Robinson', 'Harrison Katz', 'Erick Washbourne', 'Benjamin Prins', 'Shane Lambert', 'Tyler Marks', 'Sathvik Kuthuru']\n",
      "21 ['Sachin Sivakumar', 'Benjamin Prins', 'Andy Phan', 'Brian Grana', 'David Robinson', 'Harrison Katz', 'Erick Washbourne', 'Shane Lambert', 'Tyler Marks', 'Sathvik Kuthuru']\n",
      "23 ['Sachin Sivakumar', 'Benjamin Prins', 'Andy Phan', 'Brian Grana', 'David Robinson', 'Harrison Katz', 'Samarth Upadhya', 'Erick Washbourne', 'Justin Almazan', 'Shane Lambert']\n",
      "25 ['Sachin Sivakumar', 'Andy Phan', 'Benjamin Prins', 'Brian Grana', 'David Robinson', 'Harrison Katz', 'Samarth Upadhya', 'Erick Washbourne', 'Justin Almazan', 'Shane Lambert']\n",
      "26 ['Sachin Sivakumar', 'Andy Phan', 'Benjamin Prins', 'Erick Washbourne', 'Brian Grana', 'David Robinson', 'Harrison Katz', 'Samarth Upadhya', 'Justin Almazan', 'Shane Lambert']\n",
      "28 ['Andy Phan', 'Sachin Sivakumar', 'Benjamin Prins', 'Erick Washbourne', 'Brian Grana', 'David Robinson', 'Harrison Katz', 'Samarth Upadhya', 'Justin Almazan', 'Shane Lambert']\n",
      "29 ['Andy Phan', 'David Robinson', 'Sachin Sivakumar', 'Benjamin Prins', 'Erick Washbourne', 'Brian Grana', 'Harrison Katz', 'Samarth Upadhya', 'Arun Deegutla', 'Justin Almazan']\n",
      "30 ['Andy Phan', 'David Robinson', 'Brian Grana', 'Sachin Sivakumar', 'Benjamin Prins', 'Erick Washbourne', 'Harrison Katz', 'Samarth Upadhya', 'Arun Deegutla', 'Justin Almazan']\n",
      "31 ['Andy Phan', 'David Robinson', 'Brian Grana', 'Sachin Sivakumar', 'Benjamin Prins', 'Erick Washbourne', 'Sathvik Kuthuru', 'Harrison Katz', 'Samarth Upadhya', 'Arun Deegutla']\n",
      "39 ['Andy Phan', 'David Robinson', 'Brian Grana', 'Sachin Sivakumar', 'Benjamin Prins', 'Erick Washbourne', 'Sathvik Kuthuru', 'Justin Almazan', 'Chris Gittings', 'Harrison Katz']\n",
      "40 ['Andy Phan', 'Benjamin Prins', 'David Robinson', 'Brian Grana', 'Sachin Sivakumar', 'Erick Washbourne', 'Sathvik Kuthuru', 'Justin Almazan', 'Chris Gittings', 'Harrison Katz']\n",
      "42 ['Andy Phan', 'Benjamin Prins', 'Sathvik Kuthuru', 'David Robinson', 'Brian Grana', 'Sachin Sivakumar', 'Erick Washbourne', 'Justin Almazan', 'Chris Gittings', 'Harrison Katz']\n",
      "45 ['Andy Phan', 'Brian Grana', 'Benjamin Prins', 'Sathvik Kuthuru', 'David Robinson', 'Sachin Sivakumar', 'Erick Washbourne', 'Justin Almazan', 'Chris Gittings', 'Harrison Katz']\n",
      "46 ['Andy Phan', 'Brian Grana', 'Benjamin Prins', 'Sathvik Kuthuru', 'David Robinson', 'Sachin Sivakumar', 'Erick Washbourne', 'Justin Almazan', 'Thomas Meeks', 'Chris Gittings']\n",
      "49 ['Andy Phan', 'Brian Grana', 'Benjamin Prins', 'Sachin Sivakumar', 'Sathvik Kuthuru', 'David Robinson', 'Erick Washbourne', 'Justin Almazan', 'Thomas Meeks', 'Chris Gittings']\n",
      "52 ['Brian Grana', 'Andy Phan', 'Benjamin Prins', 'Sachin Sivakumar', 'Sathvik Kuthuru', 'David Robinson', 'Erick Washbourne', 'Justin Almazan', 'Thomas Meeks', 'Chris Gittings']\n",
      "54 ['Brian Grana', 'Andy Phan', 'Benjamin Prins', 'Sachin Sivakumar', 'Sathvik Kuthuru', 'David Robinson', 'Erick Washbourne', 'Justin Almazan', 'Thomas Meeks', 'Quinn Gilbert']\n",
      "56 ['Brian Grana', 'Benjamin Prins', 'Andy Phan', 'Sachin Sivakumar', 'Sathvik Kuthuru', 'David Robinson', 'Erick Washbourne', 'Justin Almazan', 'Thomas Meeks', 'Quinn Gilbert']\n",
      "57 ['Brian Grana', 'Benjamin Prins', 'Andy Phan', 'Sachin Sivakumar', 'Sathvik Kuthuru', 'David Robinson', 'Erick Washbourne', 'Justin Almazan', 'Arun Deegutla', 'Thomas Meeks']\n",
      "58 ['Brian Grana', 'Benjamin Prins', 'Andy Phan', 'Sachin Sivakumar', 'David Robinson', 'Sathvik Kuthuru', 'Erick Washbourne', 'Justin Almazan', 'Arun Deegutla', 'Thomas Meeks']\n",
      "60 ['Brian Grana', 'Benjamin Prins', 'Andy Phan', 'Sathvik Kuthuru', 'Sachin Sivakumar', 'David Robinson', 'Erick Washbourne', 'Justin Almazan', 'Arun Deegutla', 'Thomas Meeks']\n",
      "61 ['Brian Grana', 'Benjamin Prins', 'Andy Phan', 'Sathvik Kuthuru', 'Sachin Sivakumar', 'David Robinson', 'Erick Washbourne', 'Justin Almazan', 'Harrison Katz', 'Arun Deegutla']\n",
      "64 ['Brian Grana', 'Benjamin Prins', 'Andy Phan', 'Sathvik Kuthuru', 'Sachin Sivakumar', 'David Robinson', 'Arun Deegutla', 'Erick Washbourne', 'Justin Almazan', 'Harrison Katz']\n",
      "65 ['Brian Grana', 'Benjamin Prins', 'Andy Phan', 'Sathvik Kuthuru', 'Sachin Sivakumar', 'David Robinson', 'Arun Deegutla', 'Quinn Gilbert', 'Erick Washbourne', 'Justin Almazan']\n",
      "66 ['Andy Phan', 'Brian Grana', 'Benjamin Prins', 'Sathvik Kuthuru', 'Sachin Sivakumar', 'David Robinson', 'Arun Deegutla', 'Quinn Gilbert', 'Erick Washbourne', 'Justin Almazan']\n",
      "68 ['Andy Phan', 'Brian Grana', 'Benjamin Prins', 'Sachin Sivakumar', 'Sathvik Kuthuru', 'David Robinson', 'Arun Deegutla', 'Quinn Gilbert', 'Erick Washbourne', 'Justin Almazan']\n",
      "69 ['Andy Phan', 'Brian Grana', 'Benjamin Prins', 'Sachin Sivakumar', 'Sathvik Kuthuru', 'David Robinson', 'Arun Deegutla', 'Quinn Gilbert', 'Chris Gittings', 'Erick Washbourne']\n",
      "71 ['Andy Phan', 'Brian Grana', 'Benjamin Prins', 'Sachin Sivakumar', 'Sathvik Kuthuru', 'David Robinson', 'Arun Deegutla', 'Quinn Gilbert', 'Aviv Brian Barak', 'Chris Gittings']\n",
      "73 ['Benjamin Prins', 'Andy Phan', 'Brian Grana', 'Sachin Sivakumar', 'Sathvik Kuthuru', 'David Robinson', 'Arun Deegutla', 'Quinn Gilbert', 'Aviv Brian Barak', 'Chris Gittings']\n",
      "77 ['Benjamin Prins', 'Andy Phan', 'Brian Grana', 'Sachin Sivakumar', 'Sathvik Kuthuru', 'Chris Gittings', 'David Robinson', 'Arun Deegutla', 'Erick Washbourne', 'Quinn Gilbert']\n",
      "80 ['Benjamin Prins', 'Andy Phan', 'Sachin Sivakumar', 'Brian Grana', 'Sathvik Kuthuru', 'Chris Gittings', 'David Robinson', 'Arun Deegutla', 'Erick Washbourne', 'Quinn Gilbert']\n",
      "85 ['Benjamin Prins', 'Andy Phan', 'Sachin Sivakumar', 'Brian Grana', 'Sathvik Kuthuru', 'Chris Gittings', 'David Robinson', 'Arun Deegutla', 'Erick Washbourne', 'Shane Lambert']\n",
      "87 ['Benjamin Prins', 'Andy Phan', 'Sachin Sivakumar', 'Brian Grana', 'Sathvik Kuthuru', 'David Robinson', 'Chris Gittings', 'Arun Deegutla', 'Erick Washbourne', 'Shane Lambert']\n",
      "89 ['Benjamin Prins', 'Andy Phan', 'Sachin Sivakumar', 'Brian Grana', 'Sathvik Kuthuru', 'David Robinson', 'Chris Gittings', 'Aviv Brian Barak', 'Arun Deegutla', 'Erick Washbourne']\n",
      "92 ['Benjamin Prins', 'Andy Phan', 'Sachin Sivakumar', 'Aviv Brian Barak', 'Brian Grana', 'Sathvik Kuthuru', 'David Robinson', 'Chris Gittings', 'Arun Deegutla', 'Erick Washbourne']\n",
      "94 ['Benjamin Prins', 'Andy Phan', 'Sachin Sivakumar', 'Aviv Brian Barak', 'Brian Grana', 'Sathvik Kuthuru', 'David Robinson', 'Chris Gittings', 'Tyler Marks', 'Arun Deegutla']\n",
      "97 ['Benjamin Prins', 'Andy Phan', 'Sachin Sivakumar', 'Aviv Brian Barak', 'Brian Grana', 'Sathvik Kuthuru', 'David Robinson', 'Chris Gittings', 'Tyler Marks', 'Thomas Meeks']\n",
      "110 ['Benjamin Prins', 'Andy Phan', 'Brian Grana', 'Sachin Sivakumar', 'Aviv Brian Barak', 'Sathvik Kuthuru', 'David Robinson', 'Chris Gittings', 'Tyler Marks', 'Thomas Meeks']\n",
      "114 ['Benjamin Prins', 'Sachin Sivakumar', 'Andy Phan', 'Brian Grana', 'Aviv Brian Barak', 'Sathvik Kuthuru', 'David Robinson', 'Chris Gittings', 'Tyler Marks', 'Thomas Meeks']\n",
      "120 ['Benjamin Prins', 'Andy Phan', 'Sachin Sivakumar', 'Brian Grana', 'Aviv Brian Barak', 'Sathvik Kuthuru', 'David Robinson', 'Chris Gittings', 'Tyler Marks', 'Thomas Meeks']\n",
      "121 ['Benjamin Prins', 'Andy Phan', 'Sachin Sivakumar', 'Brian Grana', 'Aviv Brian Barak', 'Sathvik Kuthuru', 'David Robinson', 'Chris Gittings', 'Tyler Marks', 'Aga Calkowska']\n",
      "126 ['Benjamin Prins', 'Andy Phan', 'Sachin Sivakumar', 'Brian Grana', 'Aviv Brian Barak', 'Sathvik Kuthuru', 'David Robinson', 'Chris Gittings', 'Tyler Marks', 'Shane Lambert']\n",
      "128 ['Benjamin Prins', 'Andy Phan', 'Sachin Sivakumar', 'Brian Grana', 'Aviv Brian Barak', 'Tyler Marks', 'Sathvik Kuthuru', 'David Robinson', 'Chris Gittings', 'Shane Lambert']\n",
      "129 ['Benjamin Prins', 'Andy Phan', 'Sachin Sivakumar', 'Brian Grana', 'Aviv Brian Barak', 'Tyler Marks', 'Chris Gittings', 'Sathvik Kuthuru', 'David Robinson', 'Shane Lambert']\n",
      "134 ['Benjamin Prins', 'Andy Phan', 'Sachin Sivakumar', 'Brian Grana', 'Aviv Brian Barak', 'Tyler Marks', 'Chris Gittings', 'Sathvik Kuthuru', 'David Robinson', 'Arun Deegutla']\n",
      "154 ['Benjamin Prins', 'Andy Phan', 'Sachin Sivakumar', 'Aviv Brian Barak', 'Tyler Marks', 'Brian Grana', 'Chris Gittings', 'Sathvik Kuthuru', 'David Robinson', 'Arun Deegutla']\n",
      "167 ['Andy Phan', 'Benjamin Prins', 'Sachin Sivakumar', 'Aviv Brian Barak', 'Tyler Marks', 'Brian Grana', 'Chris Gittings', 'Sathvik Kuthuru', 'David Robinson', 'Arun Deegutla']\n",
      "186 ['Andy Phan', 'Benjamin Prins', 'Sachin Sivakumar', 'Aviv Brian Barak', 'Tyler Marks', 'Chris Gittings', 'Brian Grana', 'Sathvik Kuthuru', 'David Robinson', 'Arun Deegutla']\n",
      "192 ['Benjamin Prins', 'Andy Phan', 'Sachin Sivakumar', 'Aviv Brian Barak', 'Tyler Marks', 'Chris Gittings', 'Brian Grana', 'Sathvik Kuthuru', 'David Robinson', 'Arun Deegutla']\n",
      "201 ['Benjamin Prins', 'Andy Phan', 'Aviv Brian Barak', 'Sachin Sivakumar', 'Tyler Marks', 'Chris Gittings', 'Brian Grana', 'Sathvik Kuthuru', 'David Robinson', 'Arun Deegutla']\n",
      "207 ['Benjamin Prins', 'Sachin Sivakumar', 'Andy Phan', 'Aviv Brian Barak', 'Tyler Marks', 'Chris Gittings', 'Brian Grana', 'Sathvik Kuthuru', 'David Robinson', 'Arun Deegutla']\n",
      "221 ['Andy Phan', 'Benjamin Prins', 'Sachin Sivakumar', 'Aviv Brian Barak', 'Tyler Marks', 'Chris Gittings', 'Brian Grana', 'Sathvik Kuthuru', 'David Robinson', 'Arun Deegutla']\n",
      "233 ['Andy Phan', 'Benjamin Prins', 'Sachin Sivakumar', 'Aviv Brian Barak', 'Tyler Marks', 'Chris Gittings', 'Brian Grana', 'David Robinson', 'Sathvik Kuthuru', 'Arun Deegutla']\n",
      "240 ['Andy Phan', 'Benjamin Prins', 'Sachin Sivakumar', 'Aviv Brian Barak', 'Tyler Marks', 'Chris Gittings', 'Brian Grana', 'Thomas Meeks', 'David Robinson', 'Sathvik Kuthuru']\n",
      "258 ['Andy Phan', 'Sachin Sivakumar', 'Benjamin Prins', 'Aviv Brian Barak', 'Tyler Marks', 'Chris Gittings', 'Brian Grana', 'Thomas Meeks', 'David Robinson', 'Sathvik Kuthuru']\n",
      "270 ['Andy Phan', 'Sachin Sivakumar', 'Benjamin Prins', 'Aviv Brian Barak', 'Tyler Marks', 'Chris Gittings', 'Brian Grana', 'Thomas Meeks', 'David Robinson', 'Shane Lambert']\n",
      "271 ['Andy Phan', 'Sachin Sivakumar', 'Benjamin Prins', 'Aviv Brian Barak', 'Tyler Marks', 'Chris Gittings', 'Brian Grana', 'Sathvik Kuthuru', 'Thomas Meeks', 'David Robinson']\n",
      "288 ['Andy Phan', 'Sachin Sivakumar', 'Benjamin Prins', 'Aviv Brian Barak', 'Tyler Marks', 'Chris Gittings', 'Brian Grana', 'Shane Lambert', 'Sathvik Kuthuru', 'Thomas Meeks']\n",
      "292 ['Andy Phan', 'Sachin Sivakumar', 'Benjamin Prins', 'Aviv Brian Barak', 'Tyler Marks', 'Chris Gittings', 'Brian Grana', 'Thomas Meeks', 'Shane Lambert', 'Sathvik Kuthuru']\n",
      "293 ['Andy Phan', 'Benjamin Prins', 'Sachin Sivakumar', 'Aviv Brian Barak', 'Tyler Marks', 'Chris Gittings', 'Brian Grana', 'Thomas Meeks', 'Shane Lambert', 'Sathvik Kuthuru']\n",
      "298 ['Andy Phan', 'Benjamin Prins', 'Sachin Sivakumar', 'Aviv Brian Barak', 'Tyler Marks', 'Chris Gittings', 'Brian Grana', 'Sathvik Kuthuru', 'Thomas Meeks', 'Shane Lambert']\n"
     ]
    }
   ],
   "source": [
    "top_10s = []\n",
    "for t in range(301):\n",
    "    res = top_x_at_time(10, t)\n",
    "    if t == 0 or res != top_10s[-1]:\n",
    "        print(t, res)\n",
    "    top_10s.append(res)"
   ]
  },
  {
   "cell_type": "markdown",
   "metadata": {},
   "source": [
    "How long were people in first place for?"
   ]
  },
  {
   "cell_type": "code",
   "execution_count": 41,
   "metadata": {},
   "outputs": [
    {
     "name": "stdout",
     "output_type": "stream",
     "text": [
      "Andy Phan 154\n",
      "Sachin Sivakumar 10\n",
      "Brian Grana 14\n",
      "Benjamin Prins 123\n"
     ]
    }
   ],
   "source": [
    "top_1 = defaultdict(int)\n",
    "for t in range(contest_length + 1):\n",
    "    res = top_x_at_time(1, t)\n",
    "    top_1[res[0]] += 1\n",
    "for name, time in top_1.items():\n",
    "    print(name, time)"
   ]
  },
  {
   "cell_type": "code",
   "execution_count": 42,
   "metadata": {},
   "outputs": [
    {
     "data": {
      "image/png": "[encoded data removed]",
      "text/plain": [
       "<Figure size 640x480 with 1 Axes>"
      ]
     },
     "metadata": {},
     "output_type": "display_data"
    }
   ],
   "source": [
    "plot_rank_over_time([\"Arun Deegutla\"])\n"
   ]
  }
 ],
 "metadata": {
  "kernelspec": {
   "display_name": "Python 3",
   "language": "python",
   "name": "python3"
  },
  "language_info": {
   "codemirror_mode": {
    "name": "ipython",
    "version": 3
   },
   "file_extension": ".py",
   "mimetype": "text/x-python",
   "name": "python",
   "nbconvert_exporter": "python",
   "pygments_lexer": "ipython3",
   "version": "3.11.9"
  }
 },
 "nbformat": 4,
 "nbformat_minor": 2
}
